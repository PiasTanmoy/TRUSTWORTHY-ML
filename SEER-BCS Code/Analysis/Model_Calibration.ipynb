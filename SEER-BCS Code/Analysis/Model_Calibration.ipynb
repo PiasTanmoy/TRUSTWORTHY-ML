{
 "cells": [
  {
   "cell_type": "code",
   "execution_count": null,
   "metadata": {},
   "outputs": [],
   "source": [
    "from sklearn.calibration import calibration_curve\n",
    "from sklearn.metrics import brier_score_loss\n",
    "from sklearn.isotonic import IsotonicRegression as IR\n",
    "from sklearn.linear_model import LogisticRegression as LR\n",
    "import matplotlib.pyplot as plt\n",
    "import numpy as np\n",
    "import pandas as pd"
   ]
  },
  {
   "cell_type": "code",
   "execution_count": null,
   "metadata": {},
   "outputs": [],
   "source": [
    "def isotonic(preds, labels, test_preds):\n",
    "    preds = np.array(preds)\n",
    "    labels = np.array(labels)\n",
    "    test_preds = np.array(test_preds)\n",
    "\n",
    "    ir = IR(out_of_bounds='clip')\n",
    "    ir.fit( preds, labels )\n",
    "\n",
    "    p_calibrated_v = ir.transform( preds )\n",
    "    p_calibrated_t = ir.transform( test_preds )   # or ir.fit( p_test ), that's the same thing\n",
    "\n",
    "    return p_calibrated_v, p_calibrated_t"
   ]
  }
 ],
 "metadata": {
  "language_info": {
   "name": "python"
  }
 },
 "nbformat": 4,
 "nbformat_minor": 2
}
