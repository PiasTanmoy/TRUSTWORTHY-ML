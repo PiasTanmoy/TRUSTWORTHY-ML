{
 "cells": [
  {
   "cell_type": "code",
   "execution_count": 8,
   "metadata": {},
   "outputs": [],
   "source": [
    "import pandas as pd\n",
    "import numpy as np\n",
    "import heapq\n",
    "from sklearn.metrics import f1_score\n",
    "from sklearn.metrics import balanced_accuracy_score\n",
    "\n",
    "def Select_Threshold(df):\n",
    "    full_threshold_list = []\n",
    "    for threshold in np.arange(0.01, 1.0, 0.01):\n",
    "        #df.drop(columns = ['y_pred'])\n",
    "        df['y_pred'] = df['score y'].apply(lambda x: 1 if x >= threshold else 0)\n",
    "\n",
    "        # survival => 1, death => 0\n",
    "        y_pred = df[\"y_pred\"].values\n",
    "        y_true = df[\"true y\"].values\n",
    "        f1_C1 = f1_score(y_true, y_pred)\n",
    "        balanced_accuracy = balanced_accuracy_score(y_true, y_pred)\n",
    "        #print(f1_C1, balanced_accuracy)\n",
    "\n",
    "        # survival => 0, death => 1\n",
    "        y_pred_flip = (1- np.array(y_pred))\n",
    "        y_true_flip = (1 - np.array(y_true))\n",
    "        f1_C0 = f1_score(y_true_flip, y_pred_flip)\n",
    "        balanced_accuracy = balanced_accuracy_score(y_true_flip, y_pred_flip) #threshold agnostic\n",
    "        #print(f1_C0, balanced_accuracy)\n",
    "\n",
    "        \n",
    "        full_threshold_list.append([threshold, f1_C0, balanced_accuracy])\n",
    "        \n",
    "    df_varying_threshold = pd.DataFrame(full_threshold_list, columns = ['threshold', 'f1_score', 'balanced_accuracy'])\n",
    "    \n",
    "    # select three highest F1 score and the the highest balanced accuracy\n",
    "    f1_scores = df_varying_threshold[\"f1_score\"].values\n",
    "    thresholds = df_varying_threshold[\"threshold\"].values\n",
    "    bal_acc_values = list(df_varying_threshold[\"balanced_accuracy\"].values)\n",
    "    \n",
    "    #print(heapq.nlargest(3, f1_scores))\n",
    "    list_index = heapq.nlargest(3, range(len(f1_scores)), key=f1_scores.__getitem__)\n",
    "    opt_threshold = thresholds[bal_acc_values.index(max(bal_acc_values[list_index[0]], bal_acc_values[list_index[1]], bal_acc_values[list_index[2]]))]\n",
    "    \n",
    "    \n",
    "    return opt_threshold, df_varying_threshold\n",
    "\n",
    "\n",
    "def threshold_tuning(model_name, path = \"\"):\n",
    "    sum_ = 0\n",
    "    model = model_name\n",
    "    for i in range(1, 5+1):\n",
    "        name = model + str(i)\n",
    "        df = pd.read_csv(path +\"Selected_epochs_val_preds/\"+name + '.csv')\n",
    "        th, th_df = Select_Threshold(df)\n",
    "        th_df.to_csv(path + \"Threshold_tuning/\"+name +\".csv\", index=False)\n",
    "        sum_ += th\n",
    "        print(th)\n",
    "    \n",
    "    return sum_/5.0\n",
    "    "
   ]
  },
  {
   "cell_type": "markdown",
   "metadata": {},
   "source": [
    "## Selected threshold = 0.71"
   ]
  },
  {
   "cell_type": "code",
   "execution_count": 9,
   "metadata": {},
   "outputs": [
    {
     "name": "stdout",
     "output_type": "stream",
     "text": [
      "0.7000000000000001\n",
      "0.7000000000000001\n",
      "0.74\n",
      "0.7000000000000001\n",
      "0.6900000000000001\n"
     ]
    },
    {
     "data": {
      "text/plain": [
       "0.7060000000000001"
      ]
     },
     "execution_count": 9,
     "metadata": {},
     "output_type": "execute_result"
    }
   ],
   "source": [
    "path = \"../Base_MLP_models2/\"\n",
    "model_name = \"MLP_\"\n",
    "\n",
    "threshold_tuning(model_name, path)"
   ]
  }
 ],
 "metadata": {
  "kernelspec": {
   "display_name": "venv3.6",
   "language": "python",
   "name": "venv3.6"
  },
  "language_info": {
   "codemirror_mode": {
    "name": "ipython",
    "version": 3
   },
   "file_extension": ".py",
   "mimetype": "text/x-python",
   "name": "python",
   "nbconvert_exporter": "python",
   "pygments_lexer": "ipython3",
   "version": "3.6.8"
  }
 },
 "nbformat": 4,
 "nbformat_minor": 2
}
