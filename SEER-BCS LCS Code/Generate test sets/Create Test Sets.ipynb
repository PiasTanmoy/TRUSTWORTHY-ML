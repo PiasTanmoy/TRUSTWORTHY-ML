{
 "cells": [
  {
   "cell_type": "markdown",
   "metadata": {},
   "source": [
    "Run\n",
    "1. Import\n",
    "2. Select Seed Method\n",
    "3. Single attribute test sets\n",
    "4. Double attribute test sets\n",
    "5. Multiple attribuet test sets\n",
    "\n",
    "Use the Create test sets Method to crate customized test sets"
   ]
  },
  {
   "cell_type": "markdown",
   "metadata": {},
   "source": [
    "## 1. Import"
   ]
  },
  {
   "cell_type": "code",
   "execution_count": 6,
   "metadata": {},
   "outputs": [
    {
     "name": "stdout",
     "output_type": "stream",
     "text": [
      "/raid/home/tanmoysarkar/Trustworthiness/SEER/seer_data\n"
     ]
    }
   ],
   "source": [
    "\n",
    "import pandas as pd\n",
    "import numpy as np\n",
    "from IPython.display import display, HTML\n",
    "import os\n",
    "import matplotlib.pyplot as plt\n",
    "\n",
    "f1 = 'EOD 10 - positive lymph nodes examined continuous'\n",
    "F1 = 'EOD 10 - positive lymph nodes examined'\n",
    "\n",
    "f2 = 'EOD 10 - number of lymph nodes examined continuous'\n",
    "F2 = 'EOD 10 - number of lymph nodes examined'\n",
    "\n",
    "f3 = 'CS Tumor size continuous'\n",
    "F3 = 'CS Tumor size'\n",
    "\n",
    "f4 = 'Survived cancer for 60 months'\n",
    "y = 'Survived cancer for 60 months'\n",
    "\n",
    "grades = ['Grade 1', 'Grade 2', 'Grade 3', 'Grade 4', 'Grade 9']\n",
    "\n",
    "%pwd\n",
    "%cd '/home/tanmoysarkar/Trustworthiness/SEER/seer_data'"
   ]
  },
  {
   "cell_type": "markdown",
   "metadata": {},
   "source": [
    "## 2. Select Seed Method"
   ]
  },
  {
   "cell_type": "code",
   "execution_count": 14,
   "metadata": {},
   "outputs": [],
   "source": [
    "def select_seeds(count = 3):\n",
    "    # this is loaded just to get the y_true\n",
    "    # y_valid.npy and y_valid_normalized.npy are same\n",
    "    y_true_valid = np.load('../processed_data_TS_2/y_valid.npy')\n",
    "    X_valid_norm = np.load('../processed_data_TS_2/X_valid_normalized.npy')\n",
    "\n",
    "    # Read the text file containing column names\n",
    "    with open('../processed_data_TS_2/input_columns.txt', 'r') as file:\n",
    "        text_file_columns = file.read().splitlines()\n",
    "    text_file_columns.pop()\n",
    "\n",
    "    # Display the DataFrame\n",
    "    X_valid_norm_df = pd.DataFrame(X_valid_norm)\n",
    "    X_valid_norm_df.columns = text_file_columns\n",
    "\n",
    "    y_true_valid_df = pd.DataFrame(y_true_valid)\n",
    "    y_true_valid_df.columns = ['true y']\n",
    "\n",
    "    X_y_valid_df = pd.concat([X_valid_norm_df, y_true_valid_df], axis=1)\n",
    "    \n",
    "    X_y_valid_df_c1 = X_y_valid_df[X_y_valid_df['true y'] == 1]\n",
    "    \n",
    "    seeds = X_y_valid_df_c1.iloc[0:count].copy()\n",
    "    \n",
    "    return seeds, X_y_valid_df\n",
    "    "
   ]
  },
  {
   "cell_type": "markdown",
   "metadata": {},
   "source": [
    "## 3. Create test sets Method: Single attribute"
   ]
  },
  {
   "cell_type": "markdown",
   "metadata": {},
   "source": [
    "This code segment create test set for f (example:  CS Tumor size) by varying the value from min to max range in normalized form. \n",
    "\n",
    "> start_value = min(attribute_val_list) <br>\n",
    "> end_value = max(attribute_val_list) <br>\n",
    "> increment = 0.01 <br>"
   ]
  },
  {
   "cell_type": "code",
   "execution_count": 3,
   "metadata": {},
   "outputs": [],
   "source": [
    "def crate_test_set(save_path = '../Test2/Pos_lymph', \n",
    "                             file_name = 'pos_lymph_valid_norm_range_0_25_seed_',\n",
    "                             f = 'EOD 10 - positive lymph nodes examined continuous', \n",
    "                             seed_count = 3, increment = 0.01):\n",
    "    \n",
    "    # select_seeds method loads and returns the original validation set along with seeds as df\n",
    "    # the count defines how many seeds will be selected.\n",
    "    seeds, X_y_valid_df = select_seeds(seed_count)\n",
    "    \n",
    "    attribute_val_list = X_y_valid_df[f].to_list()\n",
    "    start_value = min(attribute_val_list)\n",
    "    end_value = max(attribute_val_list) + 1.2 # add 1 only for tumor size as validation data doens't contain max val from raw dataset\n",
    "    \n",
    "    for i in range(seed_count):\n",
    "        # Create instances with varying f\n",
    "        new_instances = []\n",
    "        df = pd.DataFrame(seeds.iloc[i].T).T.copy() # get a seed\n",
    "        \n",
    "        for value in pd.np.arange(start_value, end_value + increment, increment):\n",
    "            new_instance = df.copy() # Clone the original DataFrame and update the f column\n",
    "            new_instance[f] = value # change the f attr value\n",
    "            new_instances.append(new_instance) # append to a list\n",
    "\n",
    "        # Concatenate the list of new instances into a new DataFrame\n",
    "        result_df = pd.concat(new_instances, ignore_index=True)\n",
    "\n",
    "        del result_df['true y'] # delete y true of the seed\n",
    "        \n",
    "        print(\"seed: \", i)\n",
    "        display(result_df)  # Display the result\n",
    "        print(result_df.shape)\n",
    "        \n",
    "        # Create the directory if it doesn't exist\n",
    "        if not os.path.exists(save_path):\n",
    "            os.makedirs(save_path)\n",
    "            print(\"new directory created: \", save_path)\n",
    "        \n",
    "        full_file_name = save_path + \"/\" + file_name + str(i) \n",
    "        \n",
    "        result_df.to_csv(full_file_name + '_x.csv')\n",
    "        result_np = np.array(result_df)\n",
    "        print(result_np.shape)\n",
    "        np.save(full_file_name + '_x.npy', result_np)\n",
    "\n",
    "        y_valid_CS_Tumor_Size = [0]\n",
    "        for i in range(result_np.shape[0]-1):\n",
    "            y_valid_CS_Tumor_Size.append(1)\n",
    "        y_valid_CS_Tumor_Size = np.array(y_valid_CS_Tumor_Size)\n",
    "        print(y_valid_CS_Tumor_Size.shape)\n",
    "\n",
    "        np.save(full_file_name + '_y.npy', y_valid_CS_Tumor_Size)\n",
    "        print(\"File saved at: \", full_file_name)\n",
    "        "
   ]
  },
  {
   "cell_type": "markdown",
   "metadata": {},
   "source": [
    "### CS_Tumor_Size_valid\n"
   ]
  },
  {
   "cell_type": "code",
   "execution_count": null,
   "metadata": {},
   "outputs": [],
   "source": [
    "crate_test_set(save_path = '../Test2/CS_Tumor_Size', \n",
    "                         file_name = 'CS_Turmor_Size_valid_norm_range_0_42_seed_',\n",
    "                         f = 'CS Tumor size continuous', \n",
    "                         seed_count = 3, increment = 0.01\n",
    "                        )\n"
   ]
  },
  {
   "cell_type": "markdown",
   "metadata": {},
   "source": [
    "### EOD 10 - positive lymph nodes examined continuous"
   ]
  },
  {
   "cell_type": "code",
   "execution_count": null,
   "metadata": {},
   "outputs": [],
   "source": [
    "crate_test_set(save_path = '../Test2/Pos_lymph', \n",
    "                         file_name = 'pos_lymph_valid_norm_range_0_25_seed_',\n",
    "                         f = 'EOD 10 - positive lymph nodes examined continuous', \n",
    "                         seed_count = 3, increment = 0.01\n",
    "                        )\n"
   ]
  },
  {
   "cell_type": "markdown",
   "metadata": {},
   "source": [
    "### EOD 10 - number of lymph nodes examined continuous"
   ]
  },
  {
   "cell_type": "code",
   "execution_count": null,
   "metadata": {},
   "outputs": [],
   "source": [
    "crate_test_set(save_path = '../Test2/Num_lymph', \n",
    "                         file_name = 'num_lymph_valid_norm_range_0_10_seed_',\n",
    "                         f = 'EOD 10 - number of lymph nodes examined continuous', \n",
    "                         seed_count = 3, increment = 0.01\n",
    "                        )\n"
   ]
  },
  {
   "cell_type": "markdown",
   "metadata": {},
   "source": [
    "## 4: Create Test Set: Double attribute (3D)"
   ]
  },
  {
   "cell_type": "code",
   "execution_count": 65,
   "metadata": {},
   "outputs": [],
   "source": [
    "'''\n",
    "save_path: where to save the test set (directory)\n",
    "file_name: prefix of the saved file name\n",
    "f1: feature 1\n",
    "f2: feature 2\n",
    "seed_count: the number of seeds. Each seed is used to create a new test set\n",
    "increment_f1: increment of feature 1\n",
    "increment_f2 = increment of feature 2\n",
    "'''\n",
    "\n",
    "def crate_test_set_3D(save_path = '../Test2/Pos_lymph', \n",
    "                             file_name = 'pos_lymph_valid_norm_range_0_25_seed_',\n",
    "                             f1 = 'EOD 10 - positive lymph nodes examined continuous', \n",
    "                             f2 = 'EOD 10 - number of lymph nodes examined continuous', \n",
    "                             seed_count = 3, increment_f1 = 0.2, increment_f2 = 0.2):\n",
    "    \n",
    "    # select_seeds method loads and returns the original validation set along with seeds as df\n",
    "    # the count defines how many seeds will be selected.\n",
    "    seeds, X_y_valid_df = select_seeds(seed_count)\n",
    "    \n",
    "    attribute_val_list_f1 = X_y_valid_df[f1].to_list()\n",
    "    start_value_f1 = min(attribute_val_list_f1)\n",
    "    end_value_f1 = max(attribute_val_list_f1) #+ 1.2 # add 1 only for tumor size as validation data doens't contain max val from raw dataset\n",
    "    \n",
    "    attribute_val_list_f2 = X_y_valid_df[f2].to_list()\n",
    "    start_value_f2 = min(attribute_val_list_f2)\n",
    "    end_value_f2 = max(attribute_val_list_f2)\n",
    "    \n",
    "    for i in range(seed_count):\n",
    "        # Create instances with varying f\n",
    "        new_instances = []\n",
    "        df = pd.DataFrame(seeds.iloc[i].T).T.copy() # get a seed\n",
    "        \n",
    "        for value_f1 in pd.np.arange(start_value_f1, end_value_f1 + increment_f1, increment_f1):\n",
    "            new_instance = df.copy() # Clone the original DataFrame and update the f column\n",
    "            new_instance[f1] = value_f1 # change the f attr value\n",
    "            \n",
    "            for value_f2 in pd.np.arange(start_value_f2, end_value_f2 + increment_f2, increment_f2): \n",
    "                new_instance2 = new_instance.copy()\n",
    "                new_instance2[f2] = value_f2 # change the f attr value\n",
    "                new_instances.append(new_instance2) # append to a list\n",
    "            \n",
    "\n",
    "        # Concatenate the list of new instances into a new DataFrame\n",
    "        result_df = pd.concat(new_instances, ignore_index=True)\n",
    "\n",
    "        del result_df['true y'] # delete y true of the seed\n",
    "        \n",
    "        print(\"seed: \", i)\n",
    "        display(result_df)  # Display the result\n",
    "        print(result_df.shape)\n",
    "        \n",
    "        # Create the directory if it doesn't exist\n",
    "        if not os.path.exists(save_path):\n",
    "            os.makedirs(save_path)\n",
    "            print(\"new directory created: \", save_path)\n",
    "        \n",
    "        full_file_name = save_path + \"/\" + file_name + str(i) \n",
    "        \n",
    "        result_df.to_csv(full_file_name + '_x.csv')\n",
    "        result_np = np.array(result_df)\n",
    "        print(result_np.shape)\n",
    "        np.save(full_file_name + '_x.npy', result_np)\n",
    "\n",
    "        y_valid_CS_Tumor_Size = [0]\n",
    "        for i in range(result_np.shape[0]-1):\n",
    "            y_valid_CS_Tumor_Size.append(1)\n",
    "        y_valid_CS_Tumor_Size = np.array(y_valid_CS_Tumor_Size)\n",
    "        print(y_valid_CS_Tumor_Size.shape)\n",
    "\n",
    "        np.save(full_file_name + '_y.npy', y_valid_CS_Tumor_Size)\n",
    "        print(\"File saved at: \", full_file_name)\n",
    "        "
   ]
  },
  {
   "cell_type": "code",
   "execution_count": null,
   "metadata": {},
   "outputs": [],
   "source": [
    "crate_test_set_3D(save_path = '../Test2/CS_Tumor_Num_lymph', \n",
    "                             file_name = 'CS_Tumor_Num_lymph_valid_norm_range_seed_',\n",
    "                             f1 = 'CS Tumor size continuous', \n",
    "                             f2 = 'EOD 10 - number of lymph nodes examined continuous', \n",
    "                             seed_count = 3, increment_f1 = 0.5, increment_f2 = 0.2)"
   ]
  },
  {
   "cell_type": "code",
   "execution_count": null,
   "metadata": {},
   "outputs": [],
   "source": [
    "crate_test_set_3D(save_path = '../Test2/CS_Tumor_Pos_lymph', \n",
    "                             file_name = 'CS_Tumor_Pos_lymph_valid_norm_range_seed_',\n",
    "                             f1 = 'CS Tumor size continuous', \n",
    "                             f2 = 'EOD 10 - positive lymph nodes examined continuous', \n",
    "                             seed_count = 3, increment_f1 = 0.5, increment_f2 = 0.2)"
   ]
  },
  {
   "cell_type": "code",
   "execution_count": null,
   "metadata": {},
   "outputs": [],
   "source": [
    "crate_test_set_3D(save_path = '../Test2/CS_Tumor_Pos_lymph', \n",
    "                             file_name = 'CS_Tumor_Pos_lymph_valid_norm_range_seed_',\n",
    "                             f1 = 'CS Tumor size continuous', \n",
    "                             f2 = 'EOD 10 - positive lymph nodes examined continuous', \n",
    "                             seed_count = 3, increment_f1 = 0.6, increment_f2 = 0.3)"
   ]
  },
  {
   "cell_type": "markdown",
   "metadata": {},
   "source": [
    "### Grade test set "
   ]
  },
  {
   "cell_type": "code",
   "execution_count": 42,
   "metadata": {},
   "outputs": [],
   "source": [
    "'''\n",
    "save_path: where to save the test set (directory)\n",
    "file_name: prefix of the saved file name\n",
    "f1: feature 1\n",
    "f2: feature 2\n",
    "seed_count: the number of seeds. Each seed is used to create a new test set\n",
    "increment_f1: increment of feature 1\n",
    "increment_f2 = increment of feature 2\n",
    "'''\n",
    "\n",
    "\n",
    "def crate_test_set_grades(save_path = '../Test2/Grades', \n",
    "                             file_name = 'Grades_valid_norm_',\n",
    "                             f = \"Grade 1\", group = \"all\"):\n",
    "    \n",
    "    grades = ['Grade 1', 'Grade 2', 'Grade 3', 'Grade 4', 'Grade 9']\n",
    "    \n",
    "    # select_seeds method loads and returns the original validation set along with seeds as df\n",
    "    # the count defines how many seeds will be selected.\n",
    "    seeds, X_y_valid_df = select_seeds(1)\n",
    "    \n",
    "    if group == 1: # survived class\n",
    "        X_y_valid_df = X_y_valid_df[X_y_valid_df['true y'] == 1]\n",
    "    elif group == 0:\n",
    "        X_y_valid_df = X_y_valid_df[X_y_valid_df['true y'] == 0]\n",
    "        \n",
    "    new_instances = []\n",
    "    for i in range(X_y_valid_df.shape[0]):\n",
    "        # Create instances with varying f\n",
    "        new_instance = pd.DataFrame(X_y_valid_df.iloc[i].T).T.copy() # get a row\n",
    "        \n",
    "        for g in grades:\n",
    "            new_instance[g] = 0 # reset all one-hot encoded grades to 0\n",
    "        \n",
    "        new_instance[f] = 1 # set selected grade to 1\n",
    "        new_instances.append(new_instance) # append to a list\n",
    "\n",
    "    # Concatenate the list of new instances into a new DataFrame\n",
    "    result_df = pd.concat(new_instances, ignore_index=True)\n",
    "\n",
    "    del result_df['true y'] # delete y true of the seed\n",
    "    display(result_df)  # Display the result\n",
    "    print(result_df.shape)\n",
    "\n",
    "    # Create the directory if it doesn't exist\n",
    "    save_path = save_path + \"/\" + f + \"/\"\n",
    "    if not os.path.exists(save_path):\n",
    "        os.makedirs(save_path)\n",
    "        print(\"new directory created: \", save_path)\n",
    "\n",
    "    full_file_name = save_path + file_name\n",
    "\n",
    "    result_df.to_csv(full_file_name + '_x.csv')\n",
    "    result_np = np.array(result_df)\n",
    "    print(result_np.shape)\n",
    "    np.save(full_file_name + '_x.npy', result_np)\n",
    "\n",
    "    y_valid = [0]\n",
    "    for i in range(result_np.shape[0]-1):\n",
    "        y_valid.append(1)\n",
    "    y_valid = np.array(y_valid)\n",
    "    print(y_valid.shape)\n",
    "\n",
    "    np.save(full_file_name + '_y.npy', y_valid)\n",
    "    print(\"File saved at: \", full_file_name)\n",
    "        "
   ]
  },
  {
   "cell_type": "code",
   "execution_count": null,
   "metadata": {},
   "outputs": [],
   "source": [
    "grades = ['Grade 1', 'Grade 2', 'Grade 3', 'Grade 4', 'Grade 9']\n",
    "\n",
    "for g in grades:\n",
    "    crate_test_set_grades(save_path = '../Test2/Grades', \n",
    "                                 file_name = 'Grades_valid_norm',\n",
    "                                 f = g)"
   ]
  },
  {
   "cell_type": "markdown",
   "metadata": {},
   "source": [
    "## 5. Multi-attribute test sets"
   ]
  },
  {
   "cell_type": "code",
   "execution_count": null,
   "metadata": {},
   "outputs": [],
   "source": [
    "\n",
    "'''\n",
    "save_path: where to save the test set (directory)\n",
    "file_name: prefix of the saved file name\n",
    "f1: feature 1\n",
    "f2: feature 2\n",
    "seed_count: the number of seeds. Each seed is used to create a new test set\n",
    "increment_f1: increment of feature 1\n",
    "increment_f2 = increment of feature 2\n",
    "'''\n",
    "\n",
    "'''\n",
    "df[f1] = df[f1]*3.281532853931098 + 1.206322788652106 \n",
    "df[f2] = df[f2]* 7.364361918247256 + 6.743024148646638\n",
    "df[f3] = df[f3]*22.95831813662134 + 21.392468773994878 \n",
    "'''\n",
    "\n",
    "\n",
    "def crate_test_set_multi(save_path = '../Test2/Multi', \n",
    "                             file_name = 'Multi_valid_norm_',\n",
    "                             class_ = 2):\n",
    "    \n",
    "    f1 = 'EOD 10 - positive lymph nodes examined continuous'\n",
    "    f2 = 'EOD 10 - number of lymph nodes examined continuous'\n",
    "    f3 = 'CS Tumor size continuous'\n",
    "    f4 = 'Survived cancer for 60 months'\n",
    "    grades = ['Grade 1', 'Grade 2', 'Grade 3', 'Grade 4', 'Grade 9']\n",
    "    \n",
    "\n",
    "    # select_seeds method loads and returns the original validation set along with seeds as df\n",
    "    # the count defines how many seeds will be selected.\n",
    "    seeds, X_y_valid_df = select_seeds(1)\n",
    "    \n",
    "    if class_ == 1: # survived class\n",
    "        X_y_valid_df = X_y_valid_df[X_y_valid_df['true y'] == 1]\n",
    "    elif class_ == 0:\n",
    "        X_y_valid_df = X_y_valid_df[X_y_valid_df['true y'] == 0]\n",
    "        \n",
    "    new_instances = []\n",
    "    for i in range(X_y_valid_df.shape[0]):\n",
    "        N3 = ( randrange(11, 84) - 1.2) / 3.28\n",
    "        T3 = ( randrange(51, 984) - 21.39) / 22.958\n",
    "        G = 'Grade 4'\n",
    "    \n",
    "        new_instance = pd.DataFrame(X_y_valid_df.iloc[i].T).T.copy() # get a row\n",
    "        new_instance[f3] = T3\n",
    "        new_instance[f1] = N3\n",
    "        \n",
    "        for g in grades:\n",
    "            new_instance[g] = 0\n",
    "        new_instance[G] = 1\n",
    "\n",
    "        new_instances.append(new_instance) # append to a list\n",
    "\n",
    "    # Concatenate the list of new instances into a new DataFrame\n",
    "    result_df = pd.concat(new_instances, ignore_index=True)\n",
    "\n",
    "    del result_df['true y'] # delete y true of the seed\n",
    "    display(result_df)  # Display the result\n",
    "    print(result_df.shape)\n",
    "\n",
    "    # Create the directory if it doesn't exist\n",
    "    save_path = save_path + \"/\"\n",
    "    if not os.path.exists(save_path):\n",
    "        os.makedirs(save_path)\n",
    "        print(\"new directory created: \", save_path)\n",
    "\n",
    "    full_file_name = save_path + file_name\n",
    "\n",
    "    result_df.to_csv(full_file_name + '_x.csv')\n",
    "    result_np = np.array(result_df)\n",
    "    print(result_np.shape)\n",
    "    np.save(full_file_name + '_x.npy', result_np)\n",
    "\n",
    "    y_valid = [0]\n",
    "    for i in range(result_np.shape[0]-1):\n",
    "        y_valid.append(1)\n",
    "    y_valid = np.array(y_valid)\n",
    "    print(y_valid.shape)\n",
    "\n",
    "    np.save(full_file_name + '_y.npy', y_valid)\n",
    "    print(\"File saved at: \", full_file_name)\n",
    "        \n"
   ]
  },
  {
   "cell_type": "code",
   "execution_count": null,
   "metadata": {},
   "outputs": [],
   "source": [
    "crate_test_set_multi(save_path = '../Test2/Multi', \n",
    "                    file_name = 'Multi_valid_norm')\n"
   ]
  }
 ],
 "metadata": {
  "kernelspec": {
   "display_name": "venv3.6",
   "language": "python",
   "name": "python3"
  },
  "language_info": {
   "codemirror_mode": {
    "name": "ipython",
    "version": 3
   },
   "file_extension": ".py",
   "mimetype": "text/x-python",
   "name": "python",
   "nbconvert_exporter": "python",
   "pygments_lexer": "ipython3",
   "version": "3.6.8"
  }
 },
 "nbformat": 4,
 "nbformat_minor": 2
}
