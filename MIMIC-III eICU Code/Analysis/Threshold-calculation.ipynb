{
 "cells": [
  {
   "cell_type": "code",
   "execution_count": 1,
   "metadata": {},
   "outputs": [],
   "source": [
    "import pandas as pd\n",
    "import numpy as np\n",
    "import heapq\n",
    "from sklearn.metrics import f1_score\n",
    "from sklearn.metrics import balanced_accuracy_score\n",
    "\n",
    "def Select_Threshold(df):\n",
    "    full_threshold_list = []\n",
    "    for threshold in np.arange(0,1.05,0.05):\n",
    "        #df.drop(columns = ['y_pred'])\n",
    "        df['y_pred'] = df['prediction'].apply(lambda x: 1 if x >= threshold else 0)\n",
    "        \n",
    "        y_pred = df[\"y_pred\"].values\n",
    "        y_true = df[\"y_true\"].values\n",
    "        \n",
    "        f1_C1 = f1_score(y_true, y_pred)\n",
    "        balanced_accuracy = balanced_accuracy_score(y_true, y_pred)\n",
    "\n",
    "        \n",
    "        full_threshold_list.append([threshold, f1_C1, balanced_accuracy])\n",
    "        \n",
    "    df_varying_threshold = pd.DataFrame(full_threshold_list, columns = ['threshold', 'f1_score', 'balanced_accuracy'])\n",
    "    \n",
    "    # select three highest F1 score and the the highest balanced accuracy\n",
    "    f1_scores = df_varying_threshold[\"f1_score\"].values\n",
    "    thresholds = df_varying_threshold[\"threshold\"].values\n",
    "    bal_acc_values = list(df_varying_threshold[\"balanced_accuracy\"].values)\n",
    "    \n",
    "    #print(heapq.nlargest(3, f1_scores))\n",
    "    list_index = heapq.nlargest(3, range(len(f1_scores)), key=f1_scores.__getitem__)\n",
    "    opt_threshold = thresholds[bal_acc_values.index(max(bal_acc_values[list_index[0]], bal_acc_values[list_index[1]], bal_acc_values[list_index[2]]))]\n",
    "    \n",
    "    \n",
    "    return opt_threshold, df_varying_threshold\n",
    "\n",
    "\n",
    "def threshold_tuning(model_name, path = \"\"):\n",
    "    sum_ = 0\n",
    "    model = model_name\n",
    "    for i in range(1, 3+1):\n",
    "        name = model + str(i)\n",
    "        df = pd.read_csv(path+name + '.csv')\n",
    "        th, th_df = Select_Threshold(df)\n",
    "        th_df.to_csv(path+\"threshold_tuning-\"+name +\".csv\", index=False)\n",
    "        sum_ += th\n",
    "        print(th)\n",
    "    \n",
    "    return sum_/3\n",
    "    "
   ]
  },
  {
   "cell_type": "markdown",
   "metadata": {},
   "source": [
    "## Base CW-LSTM model Threshold"
   ]
  },
  {
   "cell_type": "code",
   "execution_count": null,
   "metadata": {},
   "outputs": [],
   "source": [
    "sum_ = 0\n",
    "model = 'CW-LSTM-'\n",
    "for i in range(1, 3+1):\n",
    "    name = model+ str(i)\n",
    "    df = pd.read_csv(name + '.csv')\n",
    "    th, th_df = Select_Threshold(df)\n",
    "    th_df.to_csv(\"threshold_tuning-\"+name +\".csv\", index=False)\n",
    "    sum_ += th\n",
    "    print(th)\n",
    "    \n",
    "print(sum_/3)"
   ]
  },
  {
   "cell_type": "markdown",
   "metadata": {},
   "source": [
    "## Base LR model threshold"
   ]
  },
  {
   "cell_type": "code",
   "execution_count": null,
   "metadata": {},
   "outputs": [],
   "source": [
    "sum_ = 0\n",
    "model = 'LR-'\n",
    "for i in range(1, 3+1):\n",
    "    name = model+ str(i)\n",
    "    df = pd.read_csv(name + '.csv')\n",
    "    th, th_df = Select_Threshold(df)\n",
    "    th_df.to_csv(\"threshold_tuning-\"+name +\".csv\", index=False)\n",
    "    sum_ += th\n",
    "    print(th)\n",
    "    \n",
    "print(sum_/3)"
   ]
  },
  {
   "cell_type": "markdown",
   "metadata": {},
   "source": [
    "## Base LSTM model threshold"
   ]
  },
  {
   "cell_type": "code",
   "execution_count": null,
   "metadata": {},
   "outputs": [],
   "source": [
    "sum_ = 0\n",
    "model = 'LSTM-'\n",
    "for i in range(1, 3+1):\n",
    "    name = model+ str(i)\n",
    "    df = pd.read_csv(name + '.csv')\n",
    "    th, th_df = Select_Threshold(df)\n",
    "    th_df.to_csv(\"threshold_tuning-\"+name +\".csv\", index=False)\n",
    "    sum_ += th\n",
    "    print(th)\n",
    "    \n",
    "print(sum_/3)"
   ]
  }
 ],
 "metadata": {
  "kernelspec": {
   "display_name": "venv3.6",
   "language": "python",
   "name": "venv3.6"
  },
  "language_info": {
   "codemirror_mode": {
    "name": "ipython",
    "version": 3
   },
   "file_extension": ".py",
   "mimetype": "text/x-python",
   "name": "python",
   "nbconvert_exporter": "python",
   "pygments_lexer": "ipython3",
   "version": "3.6.8"
  }
 },
 "nbformat": 4,
 "nbformat_minor": 2
}
